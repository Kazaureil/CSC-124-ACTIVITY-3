{
 "cells": [
  {
   "cell_type": "code",
   "execution_count": 17,
   "metadata": {
    "scrolled": true
   },
   "outputs": [
    {
     "name": "stdout",
     "output_type": "stream",
     "text": [
      " Enter a number: 20\n",
      "\n",
      "Polynomial\n",
      "Result:  8000\n",
      "\n",
      "Exponential\n",
      "Result:  1048576\n",
      "\n",
      "Logarithmic\n",
      "Result:  2.995732273553991\n",
      "\n",
      "Linearithmic\n",
      "Result:  59.914645471079815\n",
      "\n",
      "Linear\n",
      "Result:  20\n",
      "\n",
      "Quadratic\n",
      "Result:  400\n",
      "\n",
      "constant\n",
      "Result:  1\n"
     ]
    },
    {
     "data": {
      "image/png": "[encoded data removed]",
      "text/plain": [
       "<Figure size 720x360 with 1 Axes>"
      ]
     },
     "metadata": {
      "needs_background": "light"
     },
     "output_type": "display_data"
    }
   ],
   "source": [
    "import matplotlib.pyplot as plt\n",
    "import numpy as np\n",
    "import math\n",
    "\n",
    "num = int(input(\" Enter a number: \")) \n",
    "result = []\n",
    "\n",
    "def polynomial(num):\n",
    "\tprint(\"\\nPolynomial\")\n",
    "\tpoly = num**3\n",
    "\tresult.append(poly)\n",
    "\tprint(\"Result: \",poly)\n",
    "\n",
    "polynomial(num)\n",
    "\n",
    "def exponential(num):\n",
    "\tprint(\"\\nExponential\")\n",
    "\texpo = 2**num\n",
    "\tresult.append(expo)\n",
    "\tprint(\"Result: \",expo)\n",
    "\n",
    "exponential(num)\n",
    "\n",
    "def logarithmic(num):\n",
    "\tprint(\"\\nLogarithmic\")\n",
    "\tstart = timer()\n",
    "\tloga = (math.log(num))\n",
    "\tresult.append(loga)\n",
    "\tprint(\"Result: \",loga)\n",
    "\n",
    "logarithmic(num)\n",
    "\n",
    "\n",
    "def linearithmic(num):\n",
    "\tprint(\"\\nLinearithmic\")\n",
    "\tline = (num*math.log(num))\n",
    "\tresult.append(line)\n",
    "\tprint (\"Result: \",line)\n",
    "\n",
    "linearithmic(num)\n",
    "\n",
    "def linear(num):\n",
    "\tprint(\"\\nLinear\")\n",
    "\tprint(\"Result: \",num)\n",
    "\tresult.append(num)\n",
    "\n",
    "linear(num)\n",
    "\n",
    "def quadratic(num):\n",
    "\tprint(\"\\nQuadratic\")\n",
    "\tquad = num**2\n",
    "\tresult.append(quad)\n",
    "\tprint(\"Result: \",quad)\n",
    "\n",
    "quadratic(num)\n",
    "\n",
    "def constant():\n",
    "\tprint(\"\\nconstant\")\n",
    "\tprint(\"Result: \",1)\n",
    "\tresult.append(1)\n",
    "\n",
    "constant()\n",
    "\n",
    "\n",
    "\n",
    "name = ['Polynomial','Exponential','Logarithmic','Linearithmic','Linear','Quadratic','Constant']\n",
    "result2 = [result[0],result[1],result[2],result[3],\n",
    "\t\tresult[4],result[5],result[6]]\n",
    "\n",
    "\n",
    "plt.figure(figsize=(10, 5))\n",
    "\n",
    "\n",
    "plt.subplot(1,1,1)\n",
    "plt.plot(name, result2)\n",
    "plt.suptitle('Results')\n",
    "plt.show()"
   ]
  },
  {
   "cell_type": "code",
   "execution_count": null,
   "metadata": {},
   "outputs": [],
   "source": []
  },
  {
   "cell_type": "code",
   "execution_count": null,
   "metadata": {},
   "outputs": [],
   "source": []
  }
 ],
 "metadata": {
  "kernelspec": {
   "display_name": "Python 3",
   "language": "python",
   "name": "python3"
  },
  "language_info": {
   "codemirror_mode": {
    "name": "ipython",
    "version": 3
   },
   "file_extension": ".py",
   "mimetype": "text/x-python",
   "name": "python",
   "nbconvert_exporter": "python",
   "pygments_lexer": "ipython3",
   "version": "3.7.3"
  }
 },
 "nbformat": 4,
 "nbformat_minor": 2
}
